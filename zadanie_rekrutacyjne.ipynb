{
 "cells": [
  {
   "cell_type": "markdown",
   "metadata": {},
   "source": [
    "**Seria warsztatów z analizy danych w Pythonie**\n",
    "\n",
    "_Zadanie rekrutacyjne_\n",
    "\n",
    "Napisz funkcję <code><font color=\"blue\">are_anagrams</font>(s1, s2, s3)</code>, która zwróci:\n",
    "\n",
    "* <code>True</code>, jeżeli łańcuchy znaków <code>s1, s2, s3</code> są anagramami,\n",
    "\n",
    "* <code>False</code>, jeżeli łańcuchy znaków <code>s1, s2, s3</code> nie są anagramami.\n",
    "\n",
    "Załóż, że maksymalna długość każdego z łańcuchów znaków jest równa **5**.\n",
    "\n",
    "Uzasadnij zaproponowane rozwiązanie, umieszczając komentarze w treści kodu."
   ]
  },
  {
   "cell_type": "code",
   "execution_count": 43,
   "metadata": {},
   "outputs": [],
   "source": [
    "def are_anagrams(s1, s2, s3):\n",
    "    # definiuję funkcję tworzącą słownik znaków i ich powtórzeń występujących w łańcuchu\n",
    "    def dict_of_characters(x):\n",
    "        dict = {}\n",
    "        for i in x:\n",
    "            if i in dict:\n",
    "                dict[i] += 1\n",
    "            else:\n",
    "                dict[i] = 1\n",
    "        return dict\n",
    "    # sprawdzam czy długość każdego z łańcuchów jest nie większa niż 5\n",
    "    if all(len(s)<=5 for s in [s1, s2, s3]):\n",
    "        #sprawdzam czy wprowadzone łańcuchy znaków się nie powtarzają\n",
    "        if (s1!=s2 and s1!=s3 and s3!=s2):\n",
    "            # sprawdzam czy wprowadzone dane są anagramami\n",
    "            if (dict_of_characters(s1)==dict_of_characters(s2) and dict_of_characters(s1)==dict_of_characters(s3)):\n",
    "                ans = True\n",
    "            else:\n",
    "                ans = False\n",
    "        else:\n",
    "            ans = print(\"Wprowadzone łańcuchy powtarzają się\")\n",
    "    else:\n",
    "        ans = print(\"Maksymalna długość znaków w łańcuchu wynosi 5!\")   \n",
    "    return ans"
   ]
  },
  {
   "cell_type": "code",
   "execution_count": 45,
   "metadata": {},
   "outputs": [
    {
     "data": {
      "text/plain": [
       "True"
      ]
     },
     "execution_count": 45,
     "metadata": {},
     "output_type": "execute_result"
    }
   ],
   "source": [
    "are_anagrams(\"amc\", \"cma\", \"mca\")"
   ]
  },
  {
   "cell_type": "code",
   "execution_count": null,
   "metadata": {},
   "outputs": [],
   "source": []
  }
 ],
 "metadata": {
  "celltoolbar": "Edit Metadata",
  "kernelspec": {
   "display_name": "Python 3",
   "language": "python",
   "name": "python3"
  },
  "language_info": {
   "codemirror_mode": {
    "name": "ipython",
    "version": 3
   },
   "file_extension": ".py",
   "mimetype": "text/x-python",
   "name": "python",
   "nbconvert_exporter": "python",
   "pygments_lexer": "ipython3",
   "version": "3.8.5"
  }
 },
 "nbformat": 4,
 "nbformat_minor": 2
}
